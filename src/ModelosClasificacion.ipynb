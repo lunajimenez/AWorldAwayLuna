{
 "cells": [
  {
   "cell_type": "markdown",
   "id": "a8baed8d",
   "metadata": {},
   "source": [
    "Es el pdisposition el target de kepler, que calcula el mejor modelo.\n",
    "Intervalo de creación del posible exoplaneta."
   ]
  },
  {
   "cell_type": "markdown",
   "id": "a526a85c",
   "metadata": {},
   "source": [
    "Ahora vamos a empezar a testear los modelos para las bases de datos. Vamos base de datos por base de datos viendo cuáles son los mejores modelos. \n",
    "\n",
    "Vamos a probar"
   ]
  }
 ],
 "metadata": {
  "language_info": {
   "name": "python"
  }
 },
 "nbformat": 4,
 "nbformat_minor": 5
}
