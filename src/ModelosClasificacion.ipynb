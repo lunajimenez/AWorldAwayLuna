{
 "cells": [
  {
   "cell_type": "markdown",
   "id": "a8baed8d",
   "metadata": {},
   "source": [
    "Es el pdisposition el target de kepler, que calcula el mejor modelo.\n",
    "Intervalo de creación del posible exoplaneta."
   ]
  }
 ],
 "metadata": {
  "language_info": {
   "name": "python"
  }
 },
 "nbformat": 4,
 "nbformat_minor": 5
}
