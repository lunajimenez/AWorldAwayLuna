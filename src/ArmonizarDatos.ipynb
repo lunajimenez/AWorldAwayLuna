{
 "cells": [
  {
   "cell_type": "markdown",
   "id": "a8baed8d",
   "metadata": {},
   "source": [
    "Es el pdisposition el target de kepler, que calcula el mejor modelo.\n",
    "Intervalo de creación del posible exoplaneta."
   ]
  },
  {
   "cell_type": "markdown",
   "id": "a526a85c",
   "metadata": {},
   "source": [
    "Antes de empezar a testear los modelos para las bases de datos, vamos a ralizar una armonización entre los datasets, estudiar compatibilidades entre ellos para dejat un solo dataset bien hecho para poder entrenar al modelo.\n",
    "\n",
    "Claro está, puede hacerse el entrenamiento dataset por dataset, es más, lo haremos. Pero ahora me interesa seguir minando en los datos para dejar un dataset final para el modelo."
   ]
  },
  {
   "cell_type": "code",
   "execution_count": null,
   "id": "c1676e13",
   "metadata": {
    "vscode": {
     "languageId": "plaintext"
    }
   },
   "outputs": [],
   "source": []
  }
 ],
 "metadata": {
  "language_info": {
   "name": "python"
  }
 },
 "nbformat": 4,
 "nbformat_minor": 5
}
